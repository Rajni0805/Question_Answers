{
 "cells": [
  {
   "cell_type": "code",
   "execution_count": 1,
   "id": "8963b84b",
   "metadata": {},
   "outputs": [],
   "source": [
    "# Q1. Pandas is a open source library of python."
   ]
  },
  {
   "cell_type": "code",
   "execution_count": 2,
   "id": "4cb7b5b4",
   "metadata": {},
   "outputs": [],
   "source": [
    "# Q2. Series = Series is using for one D data\n",
    "#     Dataframe = Dataframe is using for Multidimensional Data"
   ]
  },
  {
   "cell_type": "code",
   "execution_count": 3,
   "id": "25e19343",
   "metadata": {},
   "outputs": [],
   "source": [
    "# Q3. loc & iloc is using to show data from dataframe :\n",
    "\n",
    "#     loc = last row index added   df.loc[2:5 , : ]\n",
    "\n",
    "#     iloc = last row indexed not added df.iloc[2:4 , ; ]"
   ]
  },
  {
   "cell_type": "code",
   "execution_count": 4,
   "id": "07558d62",
   "metadata": {},
   "outputs": [],
   "source": [
    "# Q4. value_counts() = count total category value"
   ]
  },
  {
   "cell_type": "code",
   "execution_count": 5,
   "id": "e63c2ebc",
   "metadata": {},
   "outputs": [],
   "source": [
    "# Q5. df.isnull().sum()"
   ]
  },
  {
   "cell_type": "code",
   "execution_count": 6,
   "id": "dd00ff17",
   "metadata": {},
   "outputs": [],
   "source": [
    "# Q6. using merge function \n",
    "#     df1=\n",
    "#     df2=\n",
    "#     df= df1.merge(df2)"
   ]
  },
  {
   "cell_type": "code",
   "execution_count": 7,
   "id": "760290e9",
   "metadata": {},
   "outputs": [],
   "source": [
    "# Q7. "
   ]
  },
  {
   "cell_type": "code",
   "execution_count": 8,
   "id": "db2d8577",
   "metadata": {},
   "outputs": [],
   "source": [
    "# Q8. groupby is using for grouping the data by categories and types"
   ]
  },
  {
   "cell_type": "code",
   "execution_count": 10,
   "id": "cd2685b8",
   "metadata": {},
   "outputs": [],
   "source": [
    "# Q9. "
   ]
  },
  {
   "cell_type": "code",
   "execution_count": 11,
   "id": "0ea7c538",
   "metadata": {},
   "outputs": [],
   "source": [
    "# Q10. Numerical = LinearRegression , RandomForestRegressor\n",
    "#     Categorical = DecisionTreeClassifier"
   ]
  },
  {
   "cell_type": "code",
   "execution_count": 12,
   "id": "58e864c6",
   "metadata": {},
   "outputs": [],
   "source": [
    "# Q11. Timedelta function show in days , hours , minutes & seconds. \n"
   ]
  },
  {
   "cell_type": "code",
   "execution_count": 13,
   "id": "0a236a3b",
   "metadata": {},
   "outputs": [],
   "source": [
    "# Q12. Using DateTimeIndex()"
   ]
  },
  {
   "cell_type": "code",
   "execution_count": 14,
   "id": "8d3c4cfc",
   "metadata": {},
   "outputs": [],
   "source": [
    "# Q13. Using Timestamp()"
   ]
  },
  {
   "cell_type": "code",
   "execution_count": 15,
   "id": "130d9fde",
   "metadata": {},
   "outputs": [],
   "source": [
    "# Q14. pd.read_csv(\"Filelocation.csv\")"
   ]
  },
  {
   "cell_type": "code",
   "execution_count": null,
   "id": "0a2c7b43",
   "metadata": {},
   "outputs": [],
   "source": [
    "# Q15. df.to_excel(\"filename.xlsx\")"
   ]
  }
 ],
 "metadata": {
  "kernelspec": {
   "display_name": "Python 3 (ipykernel)",
   "language": "python",
   "name": "python3"
  },
  "language_info": {
   "codemirror_mode": {
    "name": "ipython",
    "version": 3
   },
   "file_extension": ".py",
   "mimetype": "text/x-python",
   "name": "python",
   "nbconvert_exporter": "python",
   "pygments_lexer": "ipython3",
   "version": "3.11.4"
  }
 },
 "nbformat": 4,
 "nbformat_minor": 5
}
